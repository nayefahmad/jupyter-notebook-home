{
 "nbformat": 4,
 "nbformat_minor": 2,
 "metadata": {
  "language_info": {
   "name": "python",
   "codemirror_mode": {
    "name": "ipython",
    "version": 3
   },
   "version": "3.7.3"
  },
  "orig_nbformat": 2,
  "file_extension": ".py",
  "mimetype": "text/x-python",
  "name": "python",
  "npconvert_exporter": "python",
  "pygments_lexer": "ipython3",
  "version": 3
 },
 "cells": [
  {
   "cell_type": "markdown",
   "execution_count": null,
   "metadata": {},
   "outputs": [],
   "source": [
    "# Fizzbuzz with Python\n"
   ]
  },
  {
   "cell_type": "code",
   "execution_count": 13,
   "metadata": {},
   "outputs": [],
   "source": [
    "import pandas as pd "
   ]
  },
  {
   "cell_type": "code",
   "execution_count": 25,
   "metadata": {},
   "outputs": [],
   "source": [
    "result = []\n",
    "\n",
    "for i in range(1, 101): \n",
    "    if i % 15 == 0:\n",
    "        result.append(\"fizzbuzz\")\n",
    "    elif i % 3 == 0: \n",
    "        result.append(\"fizz\")\n",
    "    elif i % 5 == 0: \n",
    "        result.append(\"buzz\")\n",
    "    else: \n",
    "        result.append(\"-\")\n",
    "\n"
   ]
  },
  {
   "cell_type": "code",
   "execution_count": 26,
   "metadata": {},
   "outputs": [],
   "source": [
    "df = pd.DataFrame({'input': range(1,101), 'result' : result})"
   ]
  },
  {
   "cell_type": "code",
   "execution_count": 27,
   "metadata": {},
   "outputs": [
    {
     "data": {
      "text/html": "<div>\n<style scoped>\n    .dataframe tbody tr th:only-of-type {\n        vertical-align: middle;\n    }\n\n    .dataframe tbody tr th {\n        vertical-align: top;\n    }\n\n    .dataframe thead th {\n        text-align: right;\n    }\n</style>\n<table border=\"1\" class=\"dataframe\">\n  <thead>\n    <tr style=\"text-align: right;\">\n      <th></th>\n      <th>input</th>\n      <th>result</th>\n    </tr>\n  </thead>\n  <tbody>\n    <tr>\n      <th>0</th>\n      <td>1</td>\n      <td>-</td>\n    </tr>\n    <tr>\n      <th>1</th>\n      <td>2</td>\n      <td>-</td>\n    </tr>\n    <tr>\n      <th>2</th>\n      <td>3</td>\n      <td>fizz</td>\n    </tr>\n    <tr>\n      <th>3</th>\n      <td>4</td>\n      <td>-</td>\n    </tr>\n    <tr>\n      <th>4</th>\n      <td>5</td>\n      <td>buzz</td>\n    </tr>\n    <tr>\n      <th>5</th>\n      <td>6</td>\n      <td>fizz</td>\n    </tr>\n    <tr>\n      <th>6</th>\n      <td>7</td>\n      <td>-</td>\n    </tr>\n    <tr>\n      <th>7</th>\n      <td>8</td>\n      <td>-</td>\n    </tr>\n    <tr>\n      <th>8</th>\n      <td>9</td>\n      <td>fizz</td>\n    </tr>\n    <tr>\n      <th>9</th>\n      <td>10</td>\n      <td>buzz</td>\n    </tr>\n    <tr>\n      <th>10</th>\n      <td>11</td>\n      <td>-</td>\n    </tr>\n    <tr>\n      <th>11</th>\n      <td>12</td>\n      <td>fizz</td>\n    </tr>\n    <tr>\n      <th>12</th>\n      <td>13</td>\n      <td>-</td>\n    </tr>\n    <tr>\n      <th>13</th>\n      <td>14</td>\n      <td>-</td>\n    </tr>\n    <tr>\n      <th>14</th>\n      <td>15</td>\n      <td>fizzbuzz</td>\n    </tr>\n    <tr>\n      <th>15</th>\n      <td>16</td>\n      <td>-</td>\n    </tr>\n    <tr>\n      <th>16</th>\n      <td>17</td>\n      <td>-</td>\n    </tr>\n    <tr>\n      <th>17</th>\n      <td>18</td>\n      <td>fizz</td>\n    </tr>\n    <tr>\n      <th>18</th>\n      <td>19</td>\n      <td>-</td>\n    </tr>\n    <tr>\n      <th>19</th>\n      <td>20</td>\n      <td>buzz</td>\n    </tr>\n    <tr>\n      <th>20</th>\n      <td>21</td>\n      <td>fizz</td>\n    </tr>\n    <tr>\n      <th>21</th>\n      <td>22</td>\n      <td>-</td>\n    </tr>\n    <tr>\n      <th>22</th>\n      <td>23</td>\n      <td>-</td>\n    </tr>\n    <tr>\n      <th>23</th>\n      <td>24</td>\n      <td>fizz</td>\n    </tr>\n    <tr>\n      <th>24</th>\n      <td>25</td>\n      <td>buzz</td>\n    </tr>\n    <tr>\n      <th>25</th>\n      <td>26</td>\n      <td>-</td>\n    </tr>\n    <tr>\n      <th>26</th>\n      <td>27</td>\n      <td>fizz</td>\n    </tr>\n    <tr>\n      <th>27</th>\n      <td>28</td>\n      <td>-</td>\n    </tr>\n    <tr>\n      <th>28</th>\n      <td>29</td>\n      <td>-</td>\n    </tr>\n    <tr>\n      <th>29</th>\n      <td>30</td>\n      <td>fizzbuzz</td>\n    </tr>\n    <tr>\n      <th>...</th>\n      <td>...</td>\n      <td>...</td>\n    </tr>\n    <tr>\n      <th>70</th>\n      <td>71</td>\n      <td>-</td>\n    </tr>\n    <tr>\n      <th>71</th>\n      <td>72</td>\n      <td>fizz</td>\n    </tr>\n    <tr>\n      <th>72</th>\n      <td>73</td>\n      <td>-</td>\n    </tr>\n    <tr>\n      <th>73</th>\n      <td>74</td>\n      <td>-</td>\n    </tr>\n    <tr>\n      <th>74</th>\n      <td>75</td>\n      <td>fizzbuzz</td>\n    </tr>\n    <tr>\n      <th>75</th>\n      <td>76</td>\n      <td>-</td>\n    </tr>\n    <tr>\n      <th>76</th>\n      <td>77</td>\n      <td>-</td>\n    </tr>\n    <tr>\n      <th>77</th>\n      <td>78</td>\n      <td>fizz</td>\n    </tr>\n    <tr>\n      <th>78</th>\n      <td>79</td>\n      <td>-</td>\n    </tr>\n    <tr>\n      <th>79</th>\n      <td>80</td>\n      <td>buzz</td>\n    </tr>\n    <tr>\n      <th>80</th>\n      <td>81</td>\n      <td>fizz</td>\n    </tr>\n    <tr>\n      <th>81</th>\n      <td>82</td>\n      <td>-</td>\n    </tr>\n    <tr>\n      <th>82</th>\n      <td>83</td>\n      <td>-</td>\n    </tr>\n    <tr>\n      <th>83</th>\n      <td>84</td>\n      <td>fizz</td>\n    </tr>\n    <tr>\n      <th>84</th>\n      <td>85</td>\n      <td>buzz</td>\n    </tr>\n    <tr>\n      <th>85</th>\n      <td>86</td>\n      <td>-</td>\n    </tr>\n    <tr>\n      <th>86</th>\n      <td>87</td>\n      <td>fizz</td>\n    </tr>\n    <tr>\n      <th>87</th>\n      <td>88</td>\n      <td>-</td>\n    </tr>\n    <tr>\n      <th>88</th>\n      <td>89</td>\n      <td>-</td>\n    </tr>\n    <tr>\n      <th>89</th>\n      <td>90</td>\n      <td>fizzbuzz</td>\n    </tr>\n    <tr>\n      <th>90</th>\n      <td>91</td>\n      <td>-</td>\n    </tr>\n    <tr>\n      <th>91</th>\n      <td>92</td>\n      <td>-</td>\n    </tr>\n    <tr>\n      <th>92</th>\n      <td>93</td>\n      <td>fizz</td>\n    </tr>\n    <tr>\n      <th>93</th>\n      <td>94</td>\n      <td>-</td>\n    </tr>\n    <tr>\n      <th>94</th>\n      <td>95</td>\n      <td>buzz</td>\n    </tr>\n    <tr>\n      <th>95</th>\n      <td>96</td>\n      <td>fizz</td>\n    </tr>\n    <tr>\n      <th>96</th>\n      <td>97</td>\n      <td>-</td>\n    </tr>\n    <tr>\n      <th>97</th>\n      <td>98</td>\n      <td>-</td>\n    </tr>\n    <tr>\n      <th>98</th>\n      <td>99</td>\n      <td>fizz</td>\n    </tr>\n    <tr>\n      <th>99</th>\n      <td>100</td>\n      <td>buzz</td>\n    </tr>\n  </tbody>\n</table>\n<p>100 rows × 2 columns</p>\n</div>",
      "text/plain": "    input    result\n0       1         -\n1       2         -\n2       3      fizz\n3       4         -\n4       5      buzz\n5       6      fizz\n6       7         -\n7       8         -\n8       9      fizz\n9      10      buzz\n10     11         -\n11     12      fizz\n12     13         -\n13     14         -\n14     15  fizzbuzz\n15     16         -\n16     17         -\n17     18      fizz\n18     19         -\n19     20      buzz\n20     21      fizz\n21     22         -\n22     23         -\n23     24      fizz\n24     25      buzz\n25     26         -\n26     27      fizz\n27     28         -\n28     29         -\n29     30  fizzbuzz\n..    ...       ...\n70     71         -\n71     72      fizz\n72     73         -\n73     74         -\n74     75  fizzbuzz\n75     76         -\n76     77         -\n77     78      fizz\n78     79         -\n79     80      buzz\n80     81      fizz\n81     82         -\n82     83         -\n83     84      fizz\n84     85      buzz\n85     86         -\n86     87      fizz\n87     88         -\n88     89         -\n89     90  fizzbuzz\n90     91         -\n91     92         -\n92     93      fizz\n93     94         -\n94     95      buzz\n95     96      fizz\n96     97         -\n97     98         -\n98     99      fizz\n99    100      buzz\n\n[100 rows x 2 columns]"
     },
     "execution_count": 27,
     "metadata": {},
     "output_type": "execute_result"
    }
   ],
   "source": [
    "df"
   ]
  },
  {
   "cell_type": "code",
   "execution_count": null,
   "metadata": {},
   "outputs": [],
   "source": []
  }
 ]
}