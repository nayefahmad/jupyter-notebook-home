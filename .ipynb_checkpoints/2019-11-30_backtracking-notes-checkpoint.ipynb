{
 "cells": [
  {
   "cell_type": "markdown",
   "metadata": {},
   "source": [
    "# Notes on backtracking \n",
    "\n",
    "References:\n",
    "1. [LMU CMSI 282 notes](https://cs.lmu.edu/~ray/notes/backtracking/)\n",
    "2. [Question on StackOverflow](https://stackoverflow.com/questions/59121447/backtracking-to-find-n-element-vectors-whose-elements-add-up-to-less-than-k)\n",
    "3. Skiena, p231"
   ]
  },
  {
   "cell_type": "code",
   "execution_count": 9,
   "metadata": {},
   "outputs": [],
   "source": [
    "import numpy as np \n",
    "from functools import partial"
   ]
  },
  {
   "cell_type": "markdown",
   "metadata": {},
   "source": [
    "## Problem Statement\n",
    "\n",
    "**Problem: find all n-element vectors such that the sum of their elements is less than or equal to some number K. Each element in the vector is an integer.**\n",
    "\n",
    "For example, let's set n = 3 and K = 10. Then: \n",
    "\n",
    "[1, 1, 1] is a solution\n",
    "\n",
    "[9, 0, 0] is a solution\n",
    "\n",
    "[9, 9, 0] is NOT at solution\n",
    "\n",
    "[5, 5, 1] is NOT at solution"
   ]
  },
  {
   "cell_type": "markdown",
   "metadata": {},
   "source": [
    "## Recursive implementation of backtracking\n",
    "This code is adapted from the first site referenced above. I take no credit for it. "
   ]
  },
  {
   "cell_type": "code",
   "execution_count": 2,
   "metadata": {},
   "outputs": [],
   "source": [
    "def solve(values, safe_up_to, size):\n",
    "    \"\"\"Finds a solution to a backtracking problem.\n",
    "\n",
    "    values     -- a sequence of values to try, in order. For a map coloring\n",
    "                  problem, this may be a list of colors, such as ['red',\n",
    "                  'green', 'yellow', 'purple']\n",
    "                  If the solution will be a sequence of digits, this can \n",
    "                  be specified as range(10)\n",
    "    safe_up_to -- a function with two arguments, solution and position, that\n",
    "                  returns whether the values assigned to slots 0..pos in\n",
    "                  the solution list, satisfy the problem constraints.\n",
    "    size       -- the total number of “slots” you are trying to fill\n",
    "\n",
    "    Return the solution as a list of values.\n",
    "    \"\"\"\n",
    "    solution = [None] * size\n",
    "\n",
    "    def extend_solution(position):\n",
    "        for value in values:\n",
    "            solution[position] = value\n",
    "            if safe_up_to(solution):\n",
    "                if position >= size-1:\n",
    "                    yield np.array(solution)\n",
    "                else: \n",
    "                    yield from extend_solution(position+1)\n",
    "        solution[position] = None\n",
    "\n",
    "    return extend_solution(0)\n",
    "\n",
    "\n"
   ]
  },
  {
   "cell_type": "markdown",
   "metadata": {},
   "source": [
    "Note that one of the args to the \"engine\" is a custom function specific to the problem, named `safe_up_to( )`. \n",
    "\n",
    "Here's the custom function we define: "
   ]
  },
  {
   "cell_type": "code",
   "execution_count": 3,
   "metadata": {},
   "outputs": [],
   "source": [
    "def safe_up_to(target, partial_solution): \n",
    "    \"\"\"\n",
    "    Checks that a partial solution (string of numerals) sums to less than 10\n",
    "    \n",
    "    Partial soln is passed to the function as a list: e.g. [1, 5]\n",
    "    \n",
    "    \"\"\"\n",
    "    partial_solution = np.array(partial_solution)  # convert to np array \n",
    "    \n",
    "    # replace None with NaN\n",
    "    partial_solution = np.where(partial_solution == None, np.nan, partial_solution)\n",
    "    \n",
    "    if np.nansum(partial_solution) <= target: \n",
    "        return True\n",
    "    else: \n",
    "        return False \n",
    "    \n",
    "    "
   ]
  },
  {
   "cell_type": "markdown",
   "metadata": {},
   "source": [
    "Finally, here is how we combine the two to get a solution. "
   ]
  },
  {
   "cell_type": "markdown",
   "metadata": {},
   "source": [
    "### Print all solutions "
   ]
  },
  {
   "cell_type": "code",
   "execution_count": 4,
   "metadata": {},
   "outputs": [],
   "source": [
    "# Find all 7-element vectors such that their elements sum to 4 or less (each element is a 1-digit integer): \n",
    "\n",
    "# for sol in solve(values=range(10), safe_up_to=partial(safe_up_to, 4), size=7):\n",
    "#     print(sol, sol.sum())"
   ]
  },
  {
   "cell_type": "markdown",
   "metadata": {},
   "source": [
    "### Save all solutions in a list"
   ]
  },
  {
   "cell_type": "code",
   "execution_count": 5,
   "metadata": {},
   "outputs": [
    {
     "data": {
      "text/plain": [
       "330"
      ]
     },
     "execution_count": 5,
     "metadata": {},
     "output_type": "execute_result"
    }
   ],
   "source": [
    "# Find all 7-element vectors such that their elements sum to 4 or less (each element is a 1-digit integer): \n",
    "list_of_solutions = []\n",
    "for sol in solve(values=range(10), safe_up_to=partial(safe_up_to, 4), size=7):\n",
    "    list_of_solutions.append(sol)\n",
    "    \n",
    "len(list_of_solutions)"
   ]
  },
  {
   "cell_type": "markdown",
   "metadata": {},
   "source": [
    "# Todo: \n",
    "\n",
    "1. Explain how `partial( )` function from `functools` module works. \n",
    "2. What class of object does solve( ) return if we call without a for loop? \n",
    "3. Why use `yield` in a function instead of `return`? "
   ]
  },
  {
   "cell_type": "markdown",
   "metadata": {},
   "source": [
    "### 1. Explaining the use of `partial` \n",
    "\n",
    "`partial( )` is used for \"currying\" - that is, deriving a new function from an existing one by \"partial argument application\".\n",
    "\n",
    "See Python for Data Analysis, p74. Also see [wiki](https://en.wikipedia.org/wiki/Partial_application).\n",
    "\n",
    "Compare the following: "
   ]
  },
  {
   "cell_type": "code",
   "execution_count": 6,
   "metadata": {},
   "outputs": [
    {
     "data": {
      "text/plain": [
       "15"
      ]
     },
     "execution_count": 6,
     "metadata": {},
     "output_type": "execute_result"
    }
   ],
   "source": [
    "# Fn to add 2 nums \n",
    "def add_nums(x, y):\n",
    "    return x + y\n",
    "\n",
    "# Now I want to derive a new fn that takes a number and adds 5 to it :\n",
    "\n",
    "# Approach 1: doesn't work \n",
    "# add_five = add_nums(x, 5)\n",
    "\n",
    "# Approach 2: Works, using lambda functions \n",
    "add_five = lambda x: add_nums(x, 5)\n",
    "add_five(10)"
   ]
  },
  {
   "cell_type": "code",
   "execution_count": 7,
   "metadata": {},
   "outputs": [
    {
     "data": {
      "text/plain": [
       "15"
      ]
     },
     "execution_count": 7,
     "metadata": {},
     "output_type": "execute_result"
    }
   ],
   "source": [
    "# Approach 3: Works, using partial( ) from functools\n",
    "add_five = partial(add_nums, 5)\n",
    "add_five(10)"
   ]
  },
  {
   "cell_type": "markdown",
   "metadata": {},
   "source": [
    "### 2. The solve( ) function returns a generator"
   ]
  },
  {
   "cell_type": "code",
   "execution_count": 8,
   "metadata": {},
   "outputs": [
    {
     "data": {
      "text/plain": [
       "generator"
      ]
     },
     "execution_count": 8,
     "metadata": {},
     "output_type": "execute_result"
    }
   ],
   "source": [
    "x = solve(values=range(10), safe_up_to=partial(safe_up_to, 4), size=7)\n",
    "type(x)"
   ]
  },
  {
   "cell_type": "markdown",
   "metadata": {},
   "source": [
    "What are generators and how are they used? See Python for Data Analysis, p75 \n",
    "\n",
    "A generator is a function that returns results one call at a time; it's best used in a for loop. This is why our final call in the backtracking problem had this form: \n",
    "\n",
    "`for sol in solve(values=range(10), safe_up_to=partial(safe_up_to, 4), size=7):\n",
    "    do_stuff`"
   ]
  },
  {
   "cell_type": "markdown",
   "metadata": {},
   "source": [
    "### 3. Why use `yield` instead of `return`? \n",
    "\n"
   ]
  },
  {
   "cell_type": "markdown",
   "metadata": {},
   "source": [
    "Because this is how you define a function to be a generator. \n",
    "\n",
    "What about `yield from`? [This site](https://utcc.utoronto.ca/~cks/space/blog/python/YieldFromAndGeneratorFunctions) says that \"`yield from` takes a generator or iterator and exhausts it for you, repeatedly `yield`'ing the result.\""
   ]
  },
  {
   "cell_type": "code",
   "execution_count": null,
   "metadata": {},
   "outputs": [],
   "source": []
  }
 ],
 "metadata": {
  "kernelspec": {
   "display_name": "Python 3",
   "language": "python",
   "name": "python3"
  },
  "language_info": {
   "codemirror_mode": {
    "name": "ipython",
    "version": 3
   },
   "file_extension": ".py",
   "mimetype": "text/x-python",
   "name": "python",
   "nbconvert_exporter": "python",
   "pygments_lexer": "ipython3",
   "version": "3.6.5"
  }
 },
 "nbformat": 4,
 "nbformat_minor": 2
}
