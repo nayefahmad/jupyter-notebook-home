{
 "cells": [
  {
   "cell_type": "markdown",
   "metadata": {},
   "source": [
    "# Notes on backtracking \n",
    "\n",
    "References:\n",
    "1. https://cs.lmu.edu/~ray/notes/backtracking/ \n",
    "2. Skiena, p231"
   ]
  },
  {
   "cell_type": "code",
   "execution_count": 3,
   "metadata": {},
   "outputs": [
    {
     "name": "stdout",
     "output_type": "stream",
     "text": [
      "Using matplotlib backend: Qt5Agg\n"
     ]
    }
   ],
   "source": [
    "import numpy as np \n",
    "import pandas as pd \n",
    "import matplotlib.pyplot as plt\n",
    "import seaborn as sns\n",
    "import statsmodels as sm\n",
    "\n",
    "%matplotlib \n"
   ]
  },
  {
   "cell_type": "markdown",
   "metadata": {},
   "source": [
    "## Problem Statement\n",
    "\n",
    "Find all n-element vectors that add up to some number K or less. Each element in the vector is a real number.\n",
    "\n",
    "For now, let's set n = 3 and K = 10. \n",
    "\n",
    "**Examples**\n",
    "\n",
    "[1, 1, 1] is a solution\n",
    "\n",
    "[9, 0, 0] is a solution\n",
    "\n",
    "[9, 9, 0] is NOT at solution\n",
    "\n",
    "[5, 5, 1] is NOT at solution"
   ]
  },
  {
   "cell_type": "markdown",
   "metadata": {},
   "source": [
    "## Recursive implementation of backtracking"
   ]
  },
  {
   "cell_type": "code",
   "execution_count": 96,
   "metadata": {},
   "outputs": [],
   "source": [
    "def solve(values, safe_up_to, size):\n",
    "    \"\"\"Finds a solution to a backtracking problem.\n",
    "\n",
    "    values     -- a sequence of values to try, in order. For a map coloring\n",
    "                  problem, this may be a list of colors, such as ['red',\n",
    "                  'green', 'yellow', 'purple']\n",
    "    safe_up_to -- a function with two arguments, solution and position, that\n",
    "                  returns whether the values assigned to slots 0..pos in\n",
    "                  the solution list, satisfy the problem constraints.\n",
    "    size       -- the total number of “slots” you are trying to fill\n",
    "\n",
    "    Return the solution as a list of values.\n",
    "    \"\"\"\n",
    "    solution = [None] * size\n",
    "\n",
    "    def extend_solution(position):\n",
    "        for value in values:\n",
    "            solution[position] = value\n",
    "            if safe_up_to(solution, position):\n",
    "                if position >= size-1 or extend_solution(position+1):\n",
    "                    return solution\n",
    "        return None\n",
    "\n",
    "    return extend_solution(0)"
   ]
  },
  {
   "cell_type": "markdown",
   "metadata": {},
   "source": [
    "Note that one of the args to the \"engine\" is a custom function specific to the problem. \n",
    "\n",
    "Here's the custom function we define: "
   ]
  },
  {
   "cell_type": "code",
   "execution_count": 97,
   "metadata": {},
   "outputs": [],
   "source": [
    "def safe_up_to(partial_solution, target = 100): \n",
    "    \"\"\"\n",
    "    Checks that a partial solution (string of numerals) sums to less than 10\n",
    "    \n",
    "    Partial soln is passed to the function as a list: e.g. [1, 5]\n",
    "    \n",
    "    \"\"\"\n",
    "    partial_solution = np.array(partial_solution)  # convert to np array \n",
    "    \n",
    "    # replace None with NaN\n",
    "    partial_solution = np.where(partial_solution == None, np.nan, partial_solution)\n",
    "    \n",
    "    if np.nansum(partial_solution) <= target: \n",
    "        return True\n",
    "    else: \n",
    "        return False \n",
    "    \n",
    "    "
   ]
  },
  {
   "cell_type": "code",
   "execution_count": 101,
   "metadata": {},
   "outputs": [
    {
     "data": {
      "text/plain": [
       "[0, 0, 0, 0, 0]"
      ]
     },
     "execution_count": 101,
     "metadata": {},
     "output_type": "execute_result"
    }
   ],
   "source": [
    "solve(values=range(10), safe_up_to=safe_up_to, size=5)"
   ]
  },
  {
   "cell_type": "code",
   "execution_count": null,
   "metadata": {},
   "outputs": [],
   "source": []
  },
  {
   "cell_type": "code",
   "execution_count": null,
   "metadata": {},
   "outputs": [],
   "source": []
  },
  {
   "cell_type": "code",
   "execution_count": null,
   "metadata": {},
   "outputs": [],
   "source": []
  }
 ],
 "metadata": {
  "kernelspec": {
   "display_name": "Python 3",
   "language": "python",
   "name": "python3"
  },
  "language_info": {
   "codemirror_mode": {
    "name": "ipython",
    "version": 3
   },
   "file_extension": ".py",
   "mimetype": "text/x-python",
   "name": "python",
   "nbconvert_exporter": "python",
   "pygments_lexer": "ipython3",
   "version": "3.6.5"
  }
 },
 "nbformat": 4,
 "nbformat_minor": 2
}
